{
 "cells": [
  {
   "cell_type": "markdown",
   "metadata": {},
   "source": [
    "# Load Data"
   ]
  },
  {
   "cell_type": "code",
   "execution_count": 2,
   "metadata": {},
   "outputs": [],
   "source": [
    "from pathlib import Path\n",
    "import json\n",
    "import pandas as pd\n",
    "\n",
    "path = Path('data')"
   ]
  },
  {
   "cell_type": "code",
   "execution_count": null,
   "metadata": {},
   "outputs": [],
   "source": [
    "test_data = pd.read_csv(path/'mobile_ensemble_preds.csv')\n",
    "test_data_lstm = test_data.filter(regex=(\".*_lstm\"))\n",
    "# test_data_lstm['title'] = test_data['title']\n",
    "\n",
    "test_data_trf= test_data.filter(regex=(\".*_trf\"))\n",
    "# test_data_trf['title'] = test_data['title']\n",
    "print(test_data_trf)\n",
    "\n",
    "x_val = test_data['title']\n",
    "y_val = test_data['Category']"
   ]
  },
  {
   "cell_type": "markdown",
   "metadata": {},
   "source": [
    "# Ensemble Training"
   ]
  },
  {
   "cell_type": "code",
   "execution_count": 6,
   "metadata": {},
   "outputs": [
    {
     "name": "stderr",
     "output_type": "stream",
     "text": [
      "Using TensorFlow backend.\n"
     ]
    }
   ],
   "source": [
    "from sklearn.datasets.samples_generator import make_blobs\n",
    "from sklearn.metrics import accuracy_score\n",
    "from sklearn.linear_model import LogisticRegression\n",
    "from keras.models import load_model\n",
    "from keras.utils import to_categorical\n",
    "from numpy import dstack\n",
    "import numpy as np"
   ]
  },
  {
   "cell_type": "code",
   "execution_count": 7,
   "metadata": {},
   "outputs": [],
   "source": [
    "from numpy import dstack\n",
    "\n",
    "members = [test_data_lstm, test_data_trf]\n",
    "\n",
    "# create stacked model input dataset as outputs from the ensemble\n",
    "def stacked_dataset(members, inputX):\n",
    "    stackX = None\n",
    "    for model in members:\n",
    "        # make prediction\n",
    "        yhat = model\n",
    "        # stack predictions into [rows, members, probabilities]\n",
    "        if stackX is None:\n",
    "            stackX = yhat\n",
    "        else:\n",
    "            stackX = dstack((stackX, yhat))\n",
    "            \n",
    "    # flatten predictions to [rows, members x probabilities]\n",
    "    stackX = stackX.reshape((stackX.shape[0], stackX.shape[1]*stackX.shape[2]))\n",
    "#     print(stackX)\n",
    "    return stackX"
   ]
  },
  {
   "cell_type": "code",
   "execution_count": 15,
   "metadata": {},
   "outputs": [],
   "source": [
    "# fit a model based on the outputs from the ensemble members\n",
    "def fit_stacked_model(members, inputX, inputy):\n",
    "    # create dataset using ensemble\n",
    "    stackedX = stacked_dataset(members, inputX)\n",
    "    \n",
    "    # fit standalone model\n",
    "    model = LogisticRegression()\n",
    "    \n",
    "    print(model)\n",
    "    model.fit(stackedX, inputy)\n",
    "    print(model)\n",
    "    return model"
   ]
  },
  {
   "cell_type": "code",
   "execution_count": null,
   "metadata": {},
   "outputs": [],
   "source": [
    "# fit stacked model using the ensemble\n",
    "model = fit_stacked_model(members, x_val, y_val)"
   ]
  },
  {
   "cell_type": "markdown",
   "metadata": {},
   "source": [
    "# Ensemble Evaluation"
   ]
  },
  {
   "cell_type": "code",
   "execution_count": 10,
   "metadata": {},
   "outputs": [],
   "source": [
    "# make a prediction with the stacked model\n",
    "def stacked_prediction(members, model, inputX):\n",
    "    # create dataset using ensemble\n",
    "    stackedX = stacked_dataset(members, inputX)\n",
    "    # make a prediction\n",
    "    yhat = model.predict(stackedX)\n",
    "#     print(yhat)\n",
    "    return yhat"
   ]
  },
  {
   "cell_type": "code",
   "execution_count": null,
   "metadata": {},
   "outputs": [],
   "source": [
    "# evaluate model on test set\n",
    "yhat = stacked_prediction(members, model, x_val)\n",
    "acc = accuracy_score(y_val, yhat)\n",
    "\n",
    "print('Stacked Test Accuracy: %.9f' % acc)"
   ]
  },
  {
   "cell_type": "markdown",
   "metadata": {},
   "source": [
    "# Ensemble Prediction"
   ]
  },
  {
   "cell_type": "code",
   "execution_count": null,
   "metadata": {},
   "outputs": [],
   "source": [
    "testset = pd.read_csv(path/\"mobile_predictions.csv\")\n",
    "\n",
    "\n",
    "testset_lstm = testset.filter(regex=(\".*_lstm\"))\n",
    "testset_trf= testset.filter(regex=(\".*_trf\"))\n",
    "\n",
    "members_testset = [testset_lstm, testset_trf]\n",
    "\n",
    "x_val=[]\n",
    "\n",
    "for index,data in df.iterrows():\n",
    "    x_val.append(data.tolist())\n",
    "    \n",
    "x_val = np.asarray(x_val)\n",
    "\n",
    "preds = model.predict(x_val, verbose=1)\n",
    "\n",
    "pred_cat = ([np.argmax(y, axis=None, out=None) + 31 for y in preds])\n",
    "submission_mobile = pd.DataFrame({'Category':pred_cat})\n",
    "print(submission_mobile.head())\n",
    "\n",
    "submission_mobile.to_csv('submission_mobile.csv', index=False)"
   ]
  },
  {
   "cell_type": "code",
   "execution_count": 23,
   "metadata": {},
   "outputs": [],
   "source": [
    "df = pd.concat([test_data_lstm,test_data_trf],axis=1)\n",
    "\n",
    "x_val=[]\n",
    "\n",
    "for index,data in df.iterrows():\n",
    "    x_val.append(data.tolist())\n",
    "    \n",
    "x_val = np.asarray(x_val)"
   ]
  },
  {
   "cell_type": "code",
   "execution_count": 24,
   "metadata": {},
   "outputs": [
    {
     "data": {
      "text/plain": [
       "(43941, 28)"
      ]
     },
     "execution_count": 24,
     "metadata": {},
     "output_type": "execute_result"
    }
   ],
   "source": [
    "x_val.shape"
   ]
  }
 ],
 "metadata": {
  "kernelspec": {
   "display_name": "Python 3",
   "language": "python",
   "name": "python3"
  },
  "language_info": {
   "codemirror_mode": {
    "name": "ipython",
    "version": 3
   },
   "file_extension": ".py",
   "mimetype": "text/x-python",
   "name": "python",
   "nbconvert_exporter": "python",
   "pygments_lexer": "ipython3",
   "version": "3.6.7"
  }
 },
 "nbformat": 4,
 "nbformat_minor": 2
}
